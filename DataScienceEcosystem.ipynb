{
 "cells": [
  {
   "cell_type": "markdown",
   "id": "aaa5b4c7-3ba0-4a75-97d1-2ebe1e71c2ad",
   "metadata": {},
   "source": [
    "# Data Science Tools and Ecosystem"
   ]
  },
  {
   "cell_type": "markdown",
   "id": "a38f15cc-80ae-43e0-ae47-165fc4a7a003",
   "metadata": {},
   "source": [
    "In this notebook, Data Science Tools and Ecosystem are summarized."
   ]
  },
  {
   "cell_type": "markdown",
   "id": "b3bba8ec-6c8f-478a-8d6a-d6ea90f9a4ea",
   "metadata": {},
   "source": [
    "Some of the popular languages that Data Scientists use are:\n",
    "1. Python\n",
    "2. R\n",
    "3. SQL"
   ]
  },
  {
   "cell_type": "markdown",
   "id": "7befed74-513f-4238-af26-b6eeff68a28b",
   "metadata": {},
   "source": [
    "Some of the commonly used libraryies used by Data Scientists include:\n",
    "1. Mathplotlib\n",
    "2. NumPy\n",
    "3. Pandas\n",
    "4. Scikit-Learn"
   ]
  },
  {
   "cell_type": "markdown",
   "id": "dc42215b-3c42-4db5-bb1a-1412de7711f6",
   "metadata": {},
   "source": [
    "|Data Science Tools|\n",
    "|---|\n",
    "|Jupyter Notebook|\n",
    "|R Studio|\n",
    "|VB Studio|"
   ]
  },
  {
   "cell_type": "markdown",
   "id": "70973bee-070e-480a-b29e-fdce338a83db",
   "metadata": {},
   "source": [
    "### Below are a few examples of evaluating arithmetic expressions in Python"
   ]
  },
  {
   "cell_type": "code",
   "execution_count": 20,
   "id": "a5f94ba7-d232-4ae7-a1de-24f35142c9ed",
   "metadata": {},
   "outputs": [
    {
     "data": {
      "text/plain": [
       "17"
      ]
     },
     "execution_count": 20,
     "metadata": {},
     "output_type": "execute_result"
    }
   ],
   "source": [
    "# This is a simple arithmetic expression to multiply then add integers\n",
    "(3*4)+5"
   ]
  },
  {
   "cell_type": "code",
   "execution_count": 22,
   "id": "191bc29f-4448-43c7-b1a0-fc833475a061",
   "metadata": {},
   "outputs": [
    {
     "data": {
      "text/plain": [
       "3.3333333333333335"
      ]
     },
     "execution_count": 22,
     "metadata": {},
     "output_type": "execute_result"
    }
   ],
   "source": [
    "# This will convert 200 minutes to hours by dividing by 60\n",
    "200/60"
   ]
  },
  {
   "cell_type": "markdown",
   "id": "ff0da0a0-29ce-40e9-a90d-e91cdb20cdeb",
   "metadata": {},
   "source": [
    "__Objectives__\n",
    "- List Popular Languages for Data Science\n",
    "- List Popular Libraries for Data Science\n",
    "- List Popular Tools for Data Science\n",
    "- Demonstrate markdown formatting\n",
    "- Demonstrate annotated arithmetic (input and output) in Python"
   ]
  },
  {
   "cell_type": "markdown",
   "id": "463c79f7-5666-41c1-85d8-f87fedd80dc1",
   "metadata": {},
   "source": [
    "## Author\n",
    "Jeffrey C. Miller"
   ]
  },
  {
   "cell_type": "code",
   "execution_count": null,
   "id": "1ba22cb2-4904-4e24-8681-2125dab55a35",
   "metadata": {},
   "outputs": [],
   "source": []
  }
 ],
 "metadata": {
  "kernelspec": {
   "display_name": "Python [conda env:CourseDS]",
   "language": "python",
   "name": "conda-env-CourseDS-py"
  },
  "language_info": {
   "codemirror_mode": {
    "name": "ipython",
    "version": 3
   },
   "file_extension": ".py",
   "mimetype": "text/x-python",
   "name": "python",
   "nbconvert_exporter": "python",
   "pygments_lexer": "ipython3",
   "version": "3.12.8"
  }
 },
 "nbformat": 4,
 "nbformat_minor": 5
}
